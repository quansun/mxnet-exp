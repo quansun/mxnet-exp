{
 "cells": [
  {
   "cell_type": "markdown",
   "metadata": {
    "scrolled": false
   },
   "source": [
    "### Mxnet GPU vs CPU Runtime Shootout on a GTX780 Gaming Machine\n",
    "2017-12\n",
    "\n",
    "<table>\n",
    "    <tr>\n",
    "        <td>\n",
    "            <img src=\"gaming_pc_deep_learning.jpeg\" width=\"370\" />\n",
    "            GTX780 vs i7-2600 3.4G\n",
    "        </td>\n",
    "        <td>\n",
    "            <img src=\"gaming_pc_deep_learning_2.jpeg\" width=\"370\" />\n",
    "            sitting nicely in my garage\n",
    "        </td>\n",
    "    </tr>\n",
    "</table>\n",
    "\n",
    "If you are considering converting your old gaming PC into a deep learning box, then this is a rough estimate of how much speed gain you might get. \n",
    "\n",
    "Depending on your task, in this experiment I could get about 3x speedup gain on increasing epoch size with fixed matrix size, and an order of magnitude gain on increasing matrix size with fixed epoch size. So, if your project involve large matrix factorization tasks, using a GPU would save you a lot of time.\n",
    "\n",
    "Overall, for this particular hardware spec, it's safe to say that I should be getting <b>4x+</b> speedup with a GPU than only using the CPU."
   ]
  },
  {
   "cell_type": "markdown",
   "metadata": {},
   "source": [
    "#### Experiment environment\n",
    "\n",
    "* CPU: Intel Core i7-2600 Quad-Core Processor 3.4 GHz\n",
    "* GPU: 1 x GeForce GTX780 3GB GDDR5\n",
    "* Ram: 16G DDR3\n",
    "* Harddrive: 128G SSD \n",
    "* OS: Ubuntu 16.04\n",
    "* Deep learning framework: mxnet 1.0\n",
    "\n",
    "Please note this is not a dockerized environment."
   ]
  },
  {
   "cell_type": "code",
   "execution_count": 1,
   "metadata": {},
   "outputs": [
    {
     "name": "stdout",
     "output_type": "stream",
     "text": [
      "Populating the interactive namespace from numpy and matplotlib\n",
      "1.0.0\n"
     ]
    }
   ],
   "source": [
    "%pylab inline\n",
    "\n",
    "import pandas as pd\n",
    "import numpy as np\n",
    "import timeit\n",
    "import mxnet as mx\n",
    "import seaborn; seaborn.set_style('whitegrid')\n",
    "import logging\n",
    "# logger = logging.getLogger()\n",
    "# logger.setLevel(logging.DEBUG)\n",
    "print(mx.__version__)"
   ]
  },
  {
   "cell_type": "code",
   "execution_count": 2,
   "metadata": {},
   "outputs": [
    {
     "data": {
      "text/html": [
       "<div>\n",
       "<style scoped>\n",
       "    .dataframe tbody tr th:only-of-type {\n",
       "        vertical-align: middle;\n",
       "    }\n",
       "\n",
       "    .dataframe tbody tr th {\n",
       "        vertical-align: top;\n",
       "    }\n",
       "\n",
       "    .dataframe thead th {\n",
       "        text-align: right;\n",
       "    }\n",
       "</style>\n",
       "<table border=\"1\" class=\"dataframe\">\n",
       "  <thead>\n",
       "    <tr style=\"text-align: right;\">\n",
       "      <th></th>\n",
       "      <th>userId</th>\n",
       "      <th>movieId</th>\n",
       "      <th>rating</th>\n",
       "    </tr>\n",
       "  </thead>\n",
       "  <tbody>\n",
       "    <tr>\n",
       "      <th>0</th>\n",
       "      <td>1</td>\n",
       "      <td>2</td>\n",
       "      <td>3.5</td>\n",
       "    </tr>\n",
       "    <tr>\n",
       "      <th>1</th>\n",
       "      <td>1</td>\n",
       "      <td>29</td>\n",
       "      <td>3.5</td>\n",
       "    </tr>\n",
       "    <tr>\n",
       "      <th>2</th>\n",
       "      <td>1</td>\n",
       "      <td>32</td>\n",
       "      <td>3.5</td>\n",
       "    </tr>\n",
       "    <tr>\n",
       "      <th>3</th>\n",
       "      <td>1</td>\n",
       "      <td>47</td>\n",
       "      <td>3.5</td>\n",
       "    </tr>\n",
       "    <tr>\n",
       "      <th>4</th>\n",
       "      <td>1</td>\n",
       "      <td>50</td>\n",
       "      <td>3.5</td>\n",
       "    </tr>\n",
       "  </tbody>\n",
       "</table>\n",
       "</div>"
      ],
      "text/plain": [
       "   userId  movieId  rating\n",
       "0       1        2     3.5\n",
       "1       1       29     3.5\n",
       "2       1       32     3.5\n",
       "3       1       47     3.5\n",
       "4       1       50     3.5"
      ]
     },
     "execution_count": 2,
     "metadata": {},
     "output_type": "execute_result"
    }
   ],
   "source": [
    "import os\n",
    "import urllib.request\n",
    "import zipfile\n",
    "\n",
    "if not os.path.exists('ml-20m.zip'):\n",
    "    urllib.request.urlretrieve('http://files.grouplens.org/datasets/movielens/ml-20m.zip', 'ml-20m.zip')\n",
    "\n",
    "with zipfile.ZipFile(\"ml-20m.zip\", \"r\") as f:\n",
    "    f.extractall(\"./\")\n",
    "\n",
    "data = pd.read_csv('./ml-20m/ratings.csv', sep=',', usecols=(0, 1, 2))\n",
    "data.head()"
   ]
  },
  {
   "cell_type": "code",
   "execution_count": 3,
   "metadata": {},
   "outputs": [
    {
     "name": "stdout",
     "output_type": "stream",
     "text": [
      "user id min/max:  1 138493\n",
      "# unique users:  138493\n",
      "\n",
      "movie id min/max:  1 131262\n",
      "# unique movies:  26744\n"
     ]
    }
   ],
   "source": [
    "print(\"user id min/max: \", data['userId'].min(), data['userId'].max())\n",
    "print(\"# unique users: \", numpy.unique(data['userId']).shape[0])\n",
    "print(\"\")\n",
    "print(\"movie id min/max: \", data['movieId'].min(), data['movieId'].max())\n",
    "print(\"# unique movies: \", numpy.unique(data['movieId']).shape[0])"
   ]
  },
  {
   "cell_type": "code",
   "execution_count": 4,
   "metadata": {},
   "outputs": [],
   "source": [
    "n_users, n_movies = 138493, 131262\n",
    "batch_size = 1024"
   ]
  },
  {
   "cell_type": "code",
   "execution_count": 5,
   "metadata": {},
   "outputs": [],
   "source": [
    "n = 100000\n",
    "\n",
    "data = data.sample(frac=1).reset_index(drop=True) # Shuffle the data in place row-wise\n",
    "\n",
    "train_users = data['userId'].values[:n] - 1\n",
    "train_movies = data['movieId'].values[:n] - 1\n",
    "train_ratings = data['rating'].values[:n]\n",
    "\n",
    "valid_users = data['userId'].values[n:] - 1\n",
    "valid_movies = data['movieId'].values[n:] - 1\n",
    "valid_ratings = data['rating'].values[n:]\n",
    "\n",
    "X_train = mx.io.NDArrayIter({'user': train_users, 'movie': train_movies}, \n",
    "                                label=train_ratings, batch_size=batch_size)\n",
    "X_eval = mx.io.NDArrayIter({'user': valid_users, 'movie': valid_movies}, \n",
    "                               label=valid_ratings, batch_size=batch_size)"
   ]
  },
  {
   "cell_type": "code",
   "execution_count": null,
   "metadata": {},
   "outputs": [],
   "source": []
  },
  {
   "cell_type": "code",
   "execution_count": 6,
   "metadata": {
    "scrolled": false
   },
   "outputs": [],
   "source": [
    "def run_exp(context=mx.cpu(0), num_epoch=3, dim=25):\n",
    "    X_train.reset()\n",
    "    X_eval.reset()\n",
    "\n",
    "    user = mx.symbol.Variable(\"user\")\n",
    "    user = mx.symbol.Embedding(data=user, input_dim=n_users, output_dim=dim)\n",
    "    movie = mx.symbol.Variable(\"movie\")\n",
    "    movie = mx.symbol.Embedding(data=movie, input_dim=n_movies, output_dim=dim)\n",
    "\n",
    "    y_true = mx.symbol.Variable(\"softmax_label\")\n",
    "    y_pred = mx.symbol.sum_axis(data=(user * movie), axis=1)\n",
    "    y_pred = mx.symbol.flatten(y_pred)\n",
    "    y_pred = mx.symbol.LinearRegressionOutput(data=y_pred, label=y_true)\n",
    "\n",
    "    start_time = timeit.default_timer()\n",
    "    model = mx.module.Module(context=context, data_names=('user', 'movie'), symbol=y_pred)\n",
    "    model.fit(X_train, \n",
    "              num_epoch=num_epoch, \n",
    "              optimizer='adam', \n",
    "              optimizer_params=(('learning_rate', 0.001),),\n",
    "              eval_metric='rmse', eval_data=X_eval)\n",
    "\n",
    "    elapsed = timeit.default_timer() - start_time\n",
    "    #print('{} {} {}'.format(num_epoch, dim, elapsed))\n",
    "    return elapsed"
   ]
  },
  {
   "cell_type": "markdown",
   "metadata": {},
   "source": [
    "### Runtime comparison - Fixed dimension size with increasing epoch size"
   ]
  },
  {
   "cell_type": "code",
   "execution_count": 7,
   "metadata": {},
   "outputs": [],
   "source": [
    "x = list(range(1, 10, 1))\n",
    "dim = 25\n",
    "gpu_vals_1 = []\n",
    "for ii in x:\n",
    "    gpu_vals_1.append(run_exp(context=mx.gpu(0), num_epoch=ii, dim=dim))\n",
    "    \n",
    "cpu_vals_1 = []\n",
    "for ii in x:\n",
    "    cpu_vals_1.append(run_exp(context=mx.cpu(0), num_epoch=ii, dim=dim))    "
   ]
  },
  {
   "cell_type": "code",
   "execution_count": null,
   "metadata": {},
   "outputs": [],
   "source": []
  },
  {
   "cell_type": "code",
   "execution_count": 8,
   "metadata": {},
   "outputs": [
    {
     "data": {
      "image/png": "[encoded data removed]",
      "text/plain": [
       "<matplotlib.figure.Figure at 0x7f2db48b2240>"
      ]
     },
     "metadata": {},
     "output_type": "display_data"
    }
   ],
   "source": [
    "fig, ax = plt.subplots()\n",
    "ax.plot(x, gpu_vals_1, 'k-', label='gpu', c='blue')\n",
    "ax.plot(x, cpu_vals_1, 'k-', label='cpu', c='green')\n",
    "legend = ax.legend(loc='upper center', shadow=True)\n",
    "plt.ylabel('runtime (s)')\n",
    "plt.xlabel('num_epoch')\n",
    "plt.title('num. of latent features=25')\n",
    "plt.show()"
   ]
  },
  {
   "cell_type": "code",
   "execution_count": 17,
   "metadata": {},
   "outputs": [
    {
     "data": {
      "image/png": "[encoded data removed]",
      "text/plain": [
       "<matplotlib.figure.Figure at 0x7f2da1739f60>"
      ]
     },
     "metadata": {},
     "output_type": "display_data"
    }
   ],
   "source": [
    "fig, ax = plt.subplots()\n",
    "ax.plot(x, np.array(cpu_vals_1)/np.array(gpu_vals_1), 'k-', label='cpu / gpu', c='blue')\n",
    "legend = ax.legend(loc='lower right', shadow=True)\n",
    "plt.ylabel('times faster')\n",
    "plt.xlabel('num_epoch')\n",
    "plt.title('Fixed num. of dim = 25')\n",
    "plt.ylim([1,5])\n",
    "plt.show()"
   ]
  },
  {
   "cell_type": "markdown",
   "metadata": {},
   "source": [
    "### Runtime comparison - Fixed number of epoches with increasing dimension size"
   ]
  },
  {
   "cell_type": "code",
   "execution_count": 10,
   "metadata": {},
   "outputs": [],
   "source": [
    "dims = list(range(10, 100, 10))\n",
    "num_epoch = 10\n",
    "gpu_vals_2 = []\n",
    "for dd in dims:\n",
    "    gpu_vals_2.append(run_exp(context=mx.gpu(0), num_epoch=num_epoch, dim=dd))\n",
    "    \n",
    "cpu_vals_2 = []\n",
    "for dd in dims:\n",
    "    cpu_vals_2.append(run_exp(context=mx.cpu(0), num_epoch=num_epoch, dim=dd))\n",
    "    "
   ]
  },
  {
   "cell_type": "code",
   "execution_count": 11,
   "metadata": {},
   "outputs": [
    {
     "data": {
      "image/png": "[encoded data removed]",
      "text/plain": [
       "<matplotlib.figure.Figure at 0x7f2da466acc0>"
      ]
     },
     "metadata": {},
     "output_type": "display_data"
    }
   ],
   "source": [
    "fig, ax = plt.subplots()\n",
    "ax.plot(dims, gpu_vals_2, 'k-', label='gpu', c='blue')\n",
    "ax.plot(dims, cpu_vals_2, 'k-', label='cpu', c='green')\n",
    "legend = ax.legend(loc='upper center', shadow=True)\n",
    "plt.ylabel('runtime (s)')\n",
    "plt.xlabel('num_dim')\n",
    "plt.show()"
   ]
  },
  {
   "cell_type": "code",
   "execution_count": 13,
   "metadata": {},
   "outputs": [
    {
     "data": {
      "image/png": "[encoded data removed]",
      "text/plain": [
       "<matplotlib.figure.Figure at 0x7f2da46517f0>"
      ]
     },
     "metadata": {},
     "output_type": "display_data"
    }
   ],
   "source": [
    "fig, ax = plt.subplots()\n",
    "ax.plot(x, np.array(cpu_vals_2)/np.array(gpu_vals_2), 'k-', label='cpu / gpu', c='blue')\n",
    "legend = ax.legend(loc='upper center', shadow=True)\n",
    "plt.ylabel('runtime (s)')\n",
    "plt.xlabel('num_dim')\n",
    "plt.title('Fixed num. of epoches = {}'.format(num_epoch))\n",
    "plt.show()"
   ]
  },
  {
   "cell_type": "code",
   "execution_count": null,
   "metadata": {},
   "outputs": [],
   "source": []
  },
  {
   "cell_type": "code",
   "execution_count": null,
   "metadata": {},
   "outputs": [],
   "source": []
  }
 ],
 "metadata": {
  "kernelspec": {
   "display_name": "Python 3",
   "language": "python",
   "name": "python3"
  },
  "language_info": {
   "codemirror_mode": {
    "name": "ipython",
    "version": 3
   },
   "file_extension": ".py",
   "mimetype": "text/x-python",
   "name": "python",
   "nbconvert_exporter": "python",
   "pygments_lexer": "ipython3",
   "version": "3.5.2"
  }
 },
 "nbformat": 4,
 "nbformat_minor": 2
}
